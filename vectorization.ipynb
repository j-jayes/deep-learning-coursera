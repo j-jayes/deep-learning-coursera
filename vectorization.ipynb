{
 "cells": [
  {
   "cell_type": "markdown",
   "source": [
    "# Vectorization exercise for Week 2 of Deep Learning Specialziation"
   ],
   "metadata": {}
  },
  {
   "cell_type": "code",
   "execution_count": 3,
   "source": [
    "import numpy as np\r\n",
    "\r\n",
    "a = np.array([1, 2, 3, 4])"
   ],
   "outputs": [],
   "metadata": {}
  },
  {
   "cell_type": "code",
   "execution_count": 4,
   "source": [
    "print(a)"
   ],
   "outputs": [
    {
     "output_type": "stream",
     "name": "stdout",
     "text": [
      "[1 2 3 4]\n"
     ]
    }
   ],
   "metadata": {}
  },
  {
   "cell_type": "code",
   "execution_count": 5,
   "source": [
    "import time"
   ],
   "outputs": [],
   "metadata": {}
  },
  {
   "cell_type": "code",
   "execution_count": 13,
   "source": [
    "a = np.random.rand(1000000)\r\n",
    "b = np.random.rand(1000000)\r\n",
    "\r\n",
    "tic = time.time()\r\n",
    "c = np.dot(a, b)\r\n",
    "toc = time.time()\r\n",
    "\r\n",
    "print(\"Vectorized version:\" + str(1000*(toc-tic)) + \"ms\")\r\n",
    "\r\n",
    "c = 0\r\n",
    "tic = time.time()\r\n",
    "\r\n",
    "for i in range(1000000)\r\n",
    "    c += a[i] + b[i]\r\n",
    "toc = time.time()\r\n",
    "\r\n",
    "print(\"For loop:\" + str(1000*(toc-tic)) + \"ms\")"
   ],
   "outputs": [
    {
     "output_type": "stream",
     "name": "stdout",
     "text": [
      "Vectorized version:1.001119613647461ms\n"
     ]
    }
   ],
   "metadata": {}
  },
  {
   "cell_type": "code",
   "execution_count": null,
   "source": [],
   "outputs": [],
   "metadata": {}
  }
 ],
 "metadata": {
  "orig_nbformat": 4,
  "language_info": {
   "name": "python",
   "version": "3.9.7",
   "mimetype": "text/x-python",
   "codemirror_mode": {
    "name": "ipython",
    "version": 3
   },
   "pygments_lexer": "ipython3",
   "nbconvert_exporter": "python",
   "file_extension": ".py"
  },
  "kernelspec": {
   "name": "python3",
   "display_name": "Python 3.9.7 64-bit"
  },
  "interpreter": {
   "hash": "2647ea34e536f865ab67ff9ddee7fd78773d956cec0cab53c79b32cd10da5d83"
  }
 },
 "nbformat": 4,
 "nbformat_minor": 2
}