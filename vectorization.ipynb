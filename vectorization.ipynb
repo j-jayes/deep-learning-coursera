{
 "cells": [
  {
   "cell_type": "markdown",
   "source": [
    "# Vectorization exercise for Week 2 of Deep Learning Specialziation"
   ],
   "metadata": {}
  },
  {
   "cell_type": "code",
   "execution_count": 3,
   "source": [
    "import numpy as np\r\n",
    "\r\n",
    "a = np.array([1, 2, 3, 4])"
   ],
   "outputs": [],
   "metadata": {}
  },
  {
   "cell_type": "code",
   "execution_count": 4,
   "source": [
    "print(a)"
   ],
   "outputs": [
    {
     "output_type": "stream",
     "name": "stdout",
     "text": [
      "[1 2 3 4]\n"
     ]
    }
   ],
   "metadata": {}
  },
  {
   "cell_type": "code",
   "execution_count": 5,
   "source": [
    "import time"
   ],
   "outputs": [],
   "metadata": {}
  },
  {
   "cell_type": "code",
   "execution_count": 30,
   "source": [
    "c = 0\r\n",
    "a = np.random.rand(1000000)\r\n",
    "b = np.random.rand(1000000)\r\n",
    "\r\n",
    "tic = time.time()\r\n",
    "c = np.dot(a, b)\r\n",
    "toc = time.time()\r\n",
    "\r\n",
    "print(f\"{round(c, 2):,}\")\r\n",
    "print(\"Vectorized version:\" + str(round(1000*(toc-tic), 2)) + \"ms\")\r\n",
    "\r\n",
    "c = 0\r\n",
    "tic = time.time()\r\n",
    "\r\n",
    "for i in range(1000000):\r\n",
    "    c += a[i]*b[i]\r\n",
    "toc = time.time()\r\n",
    "\r\n",
    "print(f\"{round(c, 2):,}\")\r\n",
    "print(\"For loop:\" + str(round(1000*(toc-tic), 2)) + \"ms\")"
   ],
   "outputs": [
    {
     "output_type": "stream",
     "name": "stdout",
     "text": [
      "249,871.98\n",
      "Vectorized version:1.97ms\n",
      "249,871.98\n",
      "For loop:323.99ms\n"
     ]
    }
   ],
   "metadata": {}
  },
  {
   "cell_type": "markdown",
   "source": [
    "Wow!! It's way better to vectorize your code!"
   ],
   "metadata": {}
  },
  {
   "cell_type": "markdown",
   "source": [
    "## Another example of vector calculations - this time using broadcasting\r\n"
   ],
   "metadata": {}
  },
  {
   "cell_type": "code",
   "execution_count": 34,
   "source": [
    "A = np.array([[56, 0, 4.4, 68],\r\n",
    "[1.2, 104, 52, 8],\r\n",
    "[1.8, 135, 0.99, 0.9]])"
   ],
   "outputs": [],
   "metadata": {}
  },
  {
   "cell_type": "code",
   "execution_count": 36,
   "source": [
    "A"
   ],
   "outputs": [
    {
     "output_type": "execute_result",
     "data": {
      "text/plain": [
       "array([[ 56.  ,   0.  ,   4.4 ,  68.  ],\n",
       "       [  1.2 , 104.  ,  52.  ,   8.  ],\n",
       "       [  1.8 , 135.  ,   0.99,   0.9 ]])"
      ]
     },
     "metadata": {},
     "execution_count": 36
    }
   ],
   "metadata": {}
  },
  {
   "cell_type": "code",
   "execution_count": 51,
   "source": [
    "# Here we say sum(axis = 0) to mean sum vertically\r\n",
    "cal = A.sum(axis=0)\r\n",
    "cal"
   ],
   "outputs": [
    {
     "output_type": "execute_result",
     "data": {
      "text/plain": [
       "array([ 59.  , 239.  ,  57.39,  76.9 ])"
      ]
     },
     "metadata": {},
     "execution_count": 51
    }
   ],
   "metadata": {}
  },
  {
   "cell_type": "code",
   "execution_count": 50,
   "source": [
    "percentage = np.round(100*A/cal.reshape(1,4), 2)\r\n",
    "percentage"
   ],
   "outputs": [
    {
     "output_type": "execute_result",
     "data": {
      "text/plain": [
       "array([[94.92,  0.  ,  7.67, 88.43],\n",
       "       [ 2.03, 43.51, 90.61, 10.4 ],\n",
       "       [ 3.05, 56.49,  1.73,  1.17]])"
      ]
     },
     "metadata": {},
     "execution_count": 50
    }
   ],
   "metadata": {}
  },
  {
   "cell_type": "code",
   "execution_count": 54,
   "source": [
    "b = np.array([100, 300, 400])\r\n",
    "c = np.array([[2],\r\n",
    "[3]])"
   ],
   "outputs": [],
   "metadata": {}
  },
  {
   "cell_type": "code",
   "execution_count": 55,
   "source": [
    "b * c"
   ],
   "outputs": [
    {
     "output_type": "execute_result",
     "data": {
      "text/plain": [
       "array([[ 200,  600,  800],\n",
       "       [ 300,  900, 1200]])"
      ]
     },
     "metadata": {},
     "execution_count": 55
    }
   ],
   "metadata": {}
  }
 ],
 "metadata": {
  "orig_nbformat": 4,
  "language_info": {
   "name": "python",
   "version": "3.9.7",
   "mimetype": "text/x-python",
   "codemirror_mode": {
    "name": "ipython",
    "version": 3
   },
   "pygments_lexer": "ipython3",
   "nbconvert_exporter": "python",
   "file_extension": ".py"
  },
  "kernelspec": {
   "name": "python3",
   "display_name": "Python 3.9.7 64-bit"
  },
  "interpreter": {
   "hash": "2647ea34e536f865ab67ff9ddee7fd78773d956cec0cab53c79b32cd10da5d83"
  }
 },
 "nbformat": 4,
 "nbformat_minor": 2
}